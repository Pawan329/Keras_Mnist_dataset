{
 "cells": [
  {
   "cell_type": "markdown",
   "metadata": {},
   "source": [
    "## Mnist dataset with keras\n",
    "\n",
    "In this project I am trying to predict the digit using pixel values as feature variable. "
   ]
  },
  {
   "cell_type": "code",
   "execution_count": 1,
   "metadata": {},
   "outputs": [],
   "source": [
    "# importing numpy with fixed random state\n",
    "\n",
    "import numpy \n",
    "numpy.random.seed(1337)   # for experiment reproducibility "
   ]
  },
  {
   "cell_type": "code",
   "execution_count": 2,
   "metadata": {},
   "outputs": [],
   "source": [
    "# importing required libraries\n",
    "\n",
    "import keras #-----------------------------> Deep learning framework\n",
    "from keras.models import Sequential #------> Defining model\n",
    "from keras.layers import Dense #-----------> To add layers in nueral net\n",
    "from keras.optimizers import SGD \n",
    "from keras.datasets import mnist #---------> importing mnist dataset"
   ]
  },
  {
   "cell_type": "code",
   "execution_count": 3,
   "metadata": {},
   "outputs": [],
   "source": [
    "# Defining required variables\n",
    "\n",
    "num_classes = 10 #----------------------> number of class is 10 i.e 0-9\n",
    "\n",
    "batch_size = 128 #----------------------> Number of training samples to be taken at one time\n",
    "epochs = 20 #---------------------------> Number of times that learning algorithm will work through the entire training dataset"
   ]
  },
  {
   "cell_type": "code",
   "execution_count": 4,
   "metadata": {},
   "outputs": [],
   "source": [
    "# the data, shuffled and split between train and test sets\n",
    "\n",
    "(x_train, y_train), (x_test, y_test) = mnist.load_data()"
   ]
  },
  {
   "cell_type": "code",
   "execution_count": 5,
   "metadata": {},
   "outputs": [
    {
     "name": "stdout",
     "output_type": "stream",
     "text": [
      "(60000, 28, 28) (60000,) (10000, 28, 28) (10000,)\n"
     ]
    }
   ],
   "source": [
    "print(x_train.shape, y_train.shape, x_test.shape, y_test.shape)"
   ]
  },
  {
   "cell_type": "code",
   "execution_count": 6,
   "metadata": {},
   "outputs": [
    {
     "name": "stdout",
     "output_type": "stream",
     "text": [
      "60000 train samples\n",
      "10000 test samples\n"
     ]
    }
   ],
   "source": [
    "x_train = x_train.reshape(60000, 784)  # 28x28 = 784\n",
    "x_test = x_test.reshape(10000, 784)\n",
    "\n",
    "x_train = x_train.astype('float32') \n",
    "x_test = x_test.astype('float32') \n",
    "\n",
    "x_train /= 255  # 0 - 255 ...  0-1 \n",
    "x_test /= 255   # normalizing your data \n",
    "\n",
    "\n",
    "print(x_train.shape[0], 'train samples')\n",
    "print(x_test.shape[0], 'test samples')"
   ]
  },
  {
   "cell_type": "code",
   "execution_count": 7,
   "metadata": {},
   "outputs": [
    {
     "name": "stdout",
     "output_type": "stream",
     "text": [
      "(60000, 784)\n",
      "(60000,)\n"
     ]
    }
   ],
   "source": [
    "print(x_train.shape)\n",
    "print(y_train.shape)"
   ]
  },
  {
   "cell_type": "code",
   "execution_count": 8,
   "metadata": {},
   "outputs": [
    {
     "data": {
      "text/plain": [
       "5"
      ]
     },
     "execution_count": 8,
     "metadata": {},
     "output_type": "execute_result"
    }
   ],
   "source": [
    "y_train[0]"
   ]
  },
  {
   "cell_type": "code",
   "execution_count": 9,
   "metadata": {},
   "outputs": [],
   "source": [
    "# convert class vectors to binary class matrices\n",
    "\n",
    "y_train = keras.utils.to_categorical(y_train, num_classes)  # converting class in one hot encoding\n",
    "y_test = keras.utils.to_categorical(y_test, num_classes)\n",
    "\n",
    "# one hot encoding\n",
    "# eg. 4 to [0, 0, 0, 0, 1, 0, 0, 0, 0, 0]"
   ]
  },
  {
   "cell_type": "code",
   "execution_count": 10,
   "metadata": {},
   "outputs": [
    {
     "data": {
      "text/plain": [
       "array([0., 0., 0., 0., 0., 1., 0., 0., 0., 0.], dtype=float32)"
      ]
     },
     "execution_count": 10,
     "metadata": {},
     "output_type": "execute_result"
    }
   ],
   "source": [
    "y_train[0]"
   ]
  },
  {
   "cell_type": "markdown",
   "metadata": {},
   "source": [
    "That's called a one-hot vector. "
   ]
  },
  {
   "cell_type": "code",
   "execution_count": 11,
   "metadata": {},
   "outputs": [],
   "source": [
    "model = Sequential()"
   ]
  },
  {
   "cell_type": "code",
   "execution_count": 12,
   "metadata": {},
   "outputs": [],
   "source": [
    "model.add(Dense(512, activation='sigmoid', input_shape=(784,)))\n",
    "model.add(Dense(512, activation='sigmoid' ))\n",
    "model.add(Dense(num_classes, activation='softmax'))\n",
    "\n",
    "\n",
    "# Sigmoid function converts between any real number in range b/w 0-1"
   ]
  },
  {
   "cell_type": "code",
   "execution_count": 13,
   "metadata": {},
   "outputs": [
    {
     "name": "stdout",
     "output_type": "stream",
     "text": [
      "Model: \"sequential\"\n",
      "_________________________________________________________________\n",
      "Layer (type)                 Output Shape              Param #   \n",
      "=================================================================\n",
      "dense (Dense)                (None, 512)               401920    \n",
      "_________________________________________________________________\n",
      "dense_1 (Dense)              (None, 512)               262656    \n",
      "_________________________________________________________________\n",
      "dense_2 (Dense)              (None, 10)                5130      \n",
      "=================================================================\n",
      "Total params: 669,706\n",
      "Trainable params: 669,706\n",
      "Non-trainable params: 0\n",
      "_________________________________________________________________\n"
     ]
    }
   ],
   "source": [
    "# What does the model look like? \n",
    "\n",
    "model.summary()"
   ]
  },
  {
   "cell_type": "code",
   "execution_count": 14,
   "metadata": {},
   "outputs": [],
   "source": [
    "# Compile the model \n",
    "\n",
    "model.compile(loss='categorical_crossentropy', optimizer=SGD(), metrics=['accuracy'])"
   ]
  },
  {
   "cell_type": "code",
   "execution_count": 15,
   "metadata": {},
   "outputs": [
    {
     "name": "stdout",
     "output_type": "stream",
     "text": [
      "Epoch 1/20\n",
      "469/469 [==============================] - 7s 14ms/step - loss: 2.2892 - accuracy: 0.1536 - val_loss: 2.2273 - val_accuracy: 0.4125\n",
      "Epoch 2/20\n",
      "469/469 [==============================] - 6s 13ms/step - loss: 2.2054 - accuracy: 0.3489 - val_loss: 2.1320 - val_accuracy: 0.4915\n",
      "Epoch 3/20\n",
      "469/469 [==============================] - 6s 12ms/step - loss: 2.1052 - accuracy: 0.5010 - val_loss: 1.9957 - val_accuracy: 0.5263\n",
      "Epoch 4/20\n",
      "469/469 [==============================] - 6s 12ms/step - loss: 1.9605 - accuracy: 0.5927 - val_loss: 1.8009 - val_accuracy: 0.5612\n",
      "Epoch 5/20\n",
      "469/469 [==============================] - 6s 12ms/step - loss: 1.7506 - accuracy: 0.6286 - val_loss: 1.5539 - val_accuracy: 0.6905\n",
      "Epoch 6/20\n",
      "469/469 [==============================] - 6s 12ms/step - loss: 1.5034 - accuracy: 0.6854 - val_loss: 1.3117 - val_accuracy: 0.7470\n",
      "Epoch 7/20\n",
      "469/469 [==============================] - 6s 12ms/step - loss: 1.2732 - accuracy: 0.7322 - val_loss: 1.1135 - val_accuracy: 0.7588\n",
      "Epoch 8/20\n",
      "469/469 [==============================] - 6s 12ms/step - loss: 1.0889 - accuracy: 0.7600 - val_loss: 0.9631 - val_accuracy: 0.7884\n",
      "Epoch 9/20\n",
      "469/469 [==============================] - 6s 12ms/step - loss: 0.9488 - accuracy: 0.7845 - val_loss: 0.8538 - val_accuracy: 0.8021\n",
      "Epoch 10/20\n",
      "469/469 [==============================] - 6s 12ms/step - loss: 0.8486 - accuracy: 0.7991 - val_loss: 0.7668 - val_accuracy: 0.8167\n",
      "Epoch 11/20\n",
      "469/469 [==============================] - 6s 12ms/step - loss: 0.7645 - accuracy: 0.8132 - val_loss: 0.7016 - val_accuracy: 0.8268\n",
      "Epoch 12/20\n",
      "469/469 [==============================] - 6s 12ms/step - loss: 0.6999 - accuracy: 0.8267 - val_loss: 0.6484 - val_accuracy: 0.8402\n",
      "Epoch 13/20\n",
      "469/469 [==============================] - 6s 12ms/step - loss: 0.6549 - accuracy: 0.8341 - val_loss: 0.6058 - val_accuracy: 0.8482\n",
      "Epoch 14/20\n",
      "469/469 [==============================] - 6s 12ms/step - loss: 0.6139 - accuracy: 0.8428 - val_loss: 0.5700 - val_accuracy: 0.8540\n",
      "Epoch 15/20\n",
      "469/469 [==============================] - 6s 12ms/step - loss: 0.5803 - accuracy: 0.8507 - val_loss: 0.5411 - val_accuracy: 0.8605\n",
      "Epoch 16/20\n",
      "469/469 [==============================] - 6s 12ms/step - loss: 0.5470 - accuracy: 0.8561 - val_loss: 0.5154 - val_accuracy: 0.8659\n",
      "Epoch 17/20\n",
      "469/469 [==============================] - 6s 12ms/step - loss: 0.5279 - accuracy: 0.8602 - val_loss: 0.4942 - val_accuracy: 0.8707\n",
      "Epoch 18/20\n",
      "469/469 [==============================] - 6s 13ms/step - loss: 0.5074 - accuracy: 0.8657 - val_loss: 0.4765 - val_accuracy: 0.8719\n",
      "Epoch 19/20\n",
      "469/469 [==============================] - 6s 12ms/step - loss: 0.4839 - accuracy: 0.8709 - val_loss: 0.4605 - val_accuracy: 0.8781\n",
      "Epoch 20/20\n",
      "469/469 [==============================] - 6s 12ms/step - loss: 0.4760 - accuracy: 0.8718 - val_loss: 0.4455 - val_accuracy: 0.8803\n"
     ]
    }
   ],
   "source": [
    "# let's perform the learning \n",
    "\n",
    "history = model.fit( x_train, y_train, \n",
    "           batch_size=batch_size,\n",
    "           epochs=epochs, \n",
    "           verbose=1, \n",
    "           validation_data=(x_test, y_test))"
   ]
  },
  {
   "cell_type": "code",
   "execution_count": 16,
   "metadata": {},
   "outputs": [
    {
     "name": "stdout",
     "output_type": "stream",
     "text": [
      "313/313 [==============================] - 1s 3ms/step - loss: 0.4455 - accuracy: 0.8803\n"
     ]
    }
   ],
   "source": [
    "# Let's evaluate the model \n",
    "\n",
    "score = model.evaluate(x_test, y_test)"
   ]
  },
  {
   "cell_type": "code",
   "execution_count": 17,
   "metadata": {},
   "outputs": [
    {
     "data": {
      "text/plain": [
       "0.880299985408783"
      ]
     },
     "execution_count": 17,
     "metadata": {},
     "output_type": "execute_result"
    }
   ],
   "source": [
    "# Accuracy\n",
    "\n",
    "score[1]"
   ]
  },
  {
   "cell_type": "code",
   "execution_count": null,
   "metadata": {},
   "outputs": [],
   "source": []
  }
 ],
 "metadata": {
  "kernelspec": {
   "display_name": "Python 3",
   "language": "python",
   "name": "python3"
  },
  "language_info": {
   "codemirror_mode": {
    "name": "ipython",
    "version": 3
   },
   "file_extension": ".py",
   "mimetype": "text/x-python",
   "name": "python",
   "nbconvert_exporter": "python",
   "pygments_lexer": "ipython3",
   "version": "3.8.7"
  }
 },
 "nbformat": 4,
 "nbformat_minor": 2
}
